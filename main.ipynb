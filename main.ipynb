{
 "cells": [
  {
   "cell_type": "code",
   "execution_count": 34,
   "id": "40a48cb7-282b-4c6c-a67d-777076e0d87f",
   "metadata": {},
   "outputs": [],
   "source": [
    "import chardet\n",
    "import glob\n",
    "import os\n",
    "import pandas as pd\n",
    "import random\n",
    "import time\n",
    "\n",
    "from selenium import webdriver\n",
    "from selenium.webdriver.common.by import By\n",
    "from selenium.webdriver.chrome.options import Options"
   ]
  },
  {
   "cell_type": "code",
   "execution_count": 35,
   "id": "02d5b03c-1ff5-4575-8e77-c1533a6395b4",
   "metadata": {},
   "outputs": [],
   "source": [
    "chrome_options = Options()\n",
    "chrome_options.add_argument('--headless')\n",
    "chrome_options.add_argument('--no-sandbox')\n",
    "chrome_options.add_argument('--disable-dev-shm-usage')\n",
    "chrome_options.add_experimental_option('prefs', {\n",
    "    'download.default_directory': f\"{os.getcwd()}/temp\",\n",
    "    'download.Prompt_for_download': False,\n",
    "    'download.directory_upgrade': True,\n",
    "    'safebrowsing.enabled': True\n",
    "})"
   ]
  },
  {
   "cell_type": "code",
   "execution_count": 36,
   "id": "1ec83852-a8bb-4c07-8ae9-8842f9424dbc",
   "metadata": {},
   "outputs": [],
   "source": [
    "def clear_files():\n",
    "    temp_folder = os.getcwd() + '/temp'\n",
    "    \n",
    "    for item in os.listdir(temp_folder):\n",
    "        if item.endswith('.csv'):\n",
    "            os.remove(os.path.join(temp_folder, item))"
   ]
  },
  {
   "cell_type": "code",
   "execution_count": 37,
   "id": "bed12137-65b9-4c47-a1a2-c0137d7ea56d",
   "metadata": {},
   "outputs": [],
   "source": [
    "def get_encoding(file):\n",
    "    with open(f'{file}', 'rb') as f:\n",
    "        result = chardet.detect(f.read())\n",
    "        \n",
    "    return result['encoding']"
   ]
  },
  {
   "cell_type": "code",
   "execution_count": 38,
   "id": "8c286002-e8a0-4451-a2b9-896bf45ef149",
   "metadata": {},
   "outputs": [],
   "source": [
    "def is_file_correct(file, year, city):\n",
    "    encoding = get_encoding(file)\n",
    "    \n",
    "    try:\n",
    "        df = pd.read_csv(f'{file}', nrows = 3, encoding = encoding)\n",
    "        \n",
    "        try:\n",
    "            if(str(year) in df[df.columns[0]][2]) and (city in df[df.columns[0]][1]):\n",
    "                return True\n",
    "            return False\n",
    "        except:\n",
    "            return False\n",
    "    except:\n",
    "        return False"
   ]
  },
  {
   "cell_type": "code",
   "execution_count": 39,
   "id": "e450b0f0-2fa1-4bc0-885a-59d8dca3fb24",
   "metadata": {},
   "outputs": [],
   "source": [
    "def get_file(year, city):\n",
    "    print(f\"Getting data from {city}/{year}...\", end = ' ')\n",
    "    \n",
    "    browser = webdriver.Chrome(options = chrome_options)\n",
    "    browser.get('http://tabnet.datasus.gov.br/cgi/deftohtm.exe?popsvs/cnv/popbr.def')\n",
    "    browser.find_element(By.ID, 'L').find_elements(By.TAG_NAME, 'option')[-1].click()\n",
    "    browser.find_element(By.ID, 'C').find_elements(By.TAG_NAME, 'option')[-3].click()\n",
    "    browser.find_element(By.ID, 'fig3').click()\n",
    "    all_cities = browser.find_element(By.ID, 'S3').find_element(By.TAG_NAME, 'option')\n",
    "\n",
    "    if all_cities.is_selected():\n",
    "        all_cities.click()\n",
    "\n",
    "    for option in browser.find_element(By.XPATH, '//select[@id=\"A\"]').find_elements(By.TAG_NAME, 'option'):\n",
    "        if option.get_attribute('selected') == 'true':\n",
    "            option.click()\n",
    "    \n",
    "    browser.find_element(By.XPATH, f\"//select[@id='A']/option[text()={str(year)}]\").click()\n",
    "    browser.find_element(By.XPATH, f\"//select[@id='S3']/*[contains(text(), {city})]\").click()\n",
    "    browser.find_element(By.CLASS_NAME, 'mostra').click()\n",
    "    time.sleep(random.randint(5, 10))\n",
    "\n",
    "    browser.find_elements(By.CLASS_NAME, 'botao_opcao')[0].find_element(By.TAG_NAME, 'a').click()\n",
    "    time.sleep(random.randint(5, 10))\n",
    "    \n",
    "    file = glob.glob(f\"{os.getcwd()}/temp/*csv\")[0]\n",
    "\n",
    "    if is_file_correct(file, year, city):\n",
    "        os.rename(f\"{file}\", f\"{os.getcwd()}/data/{city}/{str(year)}.csv\")\n",
    "        print('Done.')\n",
    "    else:\n",
    "        print('Error.')\n",
    "        clear_files()\n",
    "        get_file(year, city)\n",
    "\n",
    "    browser.close()"
   ]
  },
  {
   "cell_type": "code",
   "execution_count": 40,
   "id": "c90ebb6e-25c1-4b07-8aa3-568eb446fa7a",
   "metadata": {},
   "outputs": [],
   "source": [
    "def get_cities(state_code):\n",
    "    print(f\"Getting cities from state code {state_code}...\", end = ' ')\n",
    "  \n",
    "    browser = webdriver.Chrome(options = chrome_options)\n",
    "    browser.get('http://tabnet.datasus.gov.br/cgi/deftohtm.exe?popsvs/cnv/popbr.def')\n",
    "    browser.find_element(By.ID, 'fig3').click()\n",
    "    options = browser.find_element(By.ID, 'S3').find_elements(By.TAG_NAME, 'option')\n",
    "    cities = []\n",
    "\n",
    "    for option in options:\n",
    "        city_code = option.text.split(' ')[0]\n",
    "\n",
    "        if city_code[:2] == str(state_code):\n",
    "            cities.append(city_code)\n",
    "            \n",
    "    browser.close()\n",
    "    print('Done.')\n",
    "    \n",
    "    return cities[:-1]"
   ]
  },
  {
   "cell_type": "code",
   "execution_count": 47,
   "id": "7029a997-0c6f-4154-be8f-6a7317669a05",
   "metadata": {},
   "outputs": [],
   "source": [
    "def get_restart_point(cities):\n",
    "    for city in cities:\n",
    "        folder = f\"{os.getcwd()}/data/{city}\"\n",
    "\n",
    "        if os.path.exists(folder):\n",
    "            files = glob.glob(f\"{folder}/*.csv\")\n",
    "            remaining_cities = cities[cities.index(city):]\n",
    "\n",
    "            if len(files) == 21:\n",
    "                pass\n",
    "            elif len(files) == 0:\n",
    "                return remaining_cities, 2000\n",
    "            else:\n",
    "                year = int(sorted(files)[-1][-8:-4]) + 1\n",
    "                \n",
    "                return remaining_cities, year\n",
    "        else:\n",
    "            remaining_cities = cities[cities.index(city):]"
   ]
  },
  {
   "cell_type": "code",
   "execution_count": 42,
   "id": "bf6c405f-dab8-411c-8ca7-a402552a431d",
   "metadata": {},
   "outputs": [],
   "source": [
    "def collect_data(cities, year):\n",
    "    for city in cities:\n",
    "        if not os.path.exists(f\"{os.getcwd()}/data/{city}\"):\n",
    "            os.makedirs(f\"data/{city}\")\n",
    "        \n",
    "        for i in range(year, 2021):\n",
    "            try:\n",
    "                get_file(i, city)\n",
    "            except IndexError:\n",
    "                with open(f\"data/{city}/{year}.csv\", 'w') as f:\n",
    "                    f.write(f\"No data for city {city} in {year}.\")\n",
    "                \n",
    "                print(f\"No data for city {city} in {year}.\")\n",
    "        \n",
    "            year = 2000 if i == 2020 else year"
   ]
  },
  {
   "cell_type": "code",
   "execution_count": 43,
   "id": "5bb10778-79d8-4c6a-988d-e1885de5a149",
   "metadata": {},
   "outputs": [],
   "source": [
    "def main(cities, year, exceptions = 0):\n",
    "    clear_files()\n",
    "    \n",
    "    try:\n",
    "        collect_data(cities, year)\n",
    "    except:\n",
    "        print(f\"Exception Thrown ({exceptions + 1}).\")\n",
    "        \n",
    "        if exceptions < 14:\n",
    "            cities, year = get_restart_point(cities)\n",
    "            main(cities, year, exceptions + 1)\n",
    "        else:\n",
    "            print(f\"Stopped after {exceptions + 1} exceptions.\")\n",
    "            print(\"The script is going to pause for 30 minutes and then return\")\n",
    "            \n",
    "            time.sleep(1800)\n",
    "            cities, year = get_restart_point(cities)\n",
    "            main(cities, year)\n",
    "            \n",
    "    print(\"All data collected.\")"
   ]
  },
  {
   "cell_type": "code",
   "execution_count": 44,
   "id": "7f544470-cb9a-46ab-9f95-b81560dd99a8",
   "metadata": {},
   "outputs": [],
   "source": [
    "all_cities = get_cities(43)"
   ]
  },
  {
   "cell_type": "code",
   "execution_count": 45,
   "id": "e7c1d335-3a40-4e43-bc56-afee0562002c",
   "metadata": {},
   "outputs": [],
   "source": [
    "# with open('codes/43.txt', 'w') as f:\n",
    "#     f.write('\\n'.join(all_cities))\n",
    "\n",
    "# file = open('codes/43.txt', 'r')\n",
    "# codes = file.read()\n",
    "# all_cities = codes.split('\\n')\n",
    "# file.close()"
   ]
  },
  {
   "cell_type": "code",
   "execution_count": 48,
   "id": "2b78836e-0e37-4959-92e6-288b81e03de2",
   "metadata": {},
   "outputs": [],
   "source": [
    "cities, year = get_restart_point(all_cities)"
   ]
  },
  {
   "cell_type": "code",
   "execution_count": 49,
   "id": "610357d7-056f-41ca-88aa-caa49918e7fd",
   "metadata": {},
   "outputs": [
    {
     "name": "stdout",
     "output_type": "stream",
     "text": [
      "497 cities at total.\n",
      "497 cities remaining.\n"
     ]
    }
   ],
   "source": [
    "print(f\"{len(all_cities)} cities at total.\\n{len(cities)} cities remaining.\")"
   ]
  },
  {
   "cell_type": "code",
   "execution_count": 51,
   "id": "a503697c-9497-4674-a039-99a87b3a68b7",
   "metadata": {},
   "outputs": [],
   "source": [
    "main(cities, year)"
   ]
  }
 ],
 "metadata": {
  "kernelspec": {
   "display_name": "Python 3",
   "language": "python",
   "name": "python3"
  },
  "language_info": {
   "codemirror_mode": {
    "name": "ipython",
    "version": 3
   },
   "file_extension": ".py",
   "mimetype": "text/x-python",
   "name": "python",
   "nbconvert_exporter": "python",
   "pygments_lexer": "ipython3",
   "version": "3.8.8"
  }
 },
 "nbformat": 4,
 "nbformat_minor": 5
}
