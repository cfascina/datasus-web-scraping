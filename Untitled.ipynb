{
 "cells": [
  {
   "cell_type": "code",
   "execution_count": null,
   "id": "ce09df3d-99d4-4662-b8af-2ba5412f21c1",
   "metadata": {},
   "outputs": [],
   "source": [
    "# with open('codes/42.txt', 'w') as f:\n",
    "#     f.write('\\n'.join(all_cities))\n",
    "\n",
    "# file = open('codes/42.txt', 'r')\n",
    "# codes = file.read()\n",
    "# all_cities = codes.split('\\n')\n",
    "# file.close()"
   ]
  }
 ],
 "metadata": {
  "kernelspec": {
   "display_name": "Python 3",
   "language": "python",
   "name": "python3"
  },
  "language_info": {
   "codemirror_mode": {
    "name": "ipython",
    "version": 3
   },
   "file_extension": ".py",
   "mimetype": "text/x-python",
   "name": "python",
   "nbconvert_exporter": "python",
   "pygments_lexer": "ipython3",
   "version": "3.8.8"
  }
 },
 "nbformat": 4,
 "nbformat_minor": 5
}
