{
 "cells": [
  {
   "cell_type": "code",
   "execution_count": 1,
   "id": "501c5d04-8bc8-464d-a523-03e0aa2d5d3d",
   "metadata": {},
   "outputs": [],
   "source": [
    "from itertools import groupby\n",
    "from operator import itemgetter\n",
    "from selenium import webdriver\n",
    "from selenium.webdriver.common.by import By\n",
    "from selenium.webdriver.chrome.options import Options"
   ]
  },
  {
   "cell_type": "code",
   "execution_count": 2,
   "id": "8b3f76d3-bf52-4d07-ad57-a8f3d7e6309e",
   "metadata": {},
   "outputs": [],
   "source": [
    "chrome_options = Options()\n",
    "chrome_options.add_argument('--headless')\n",
    "chrome_options.add_argument('--no-sandbox')\n",
    "chrome_options.add_argument('--disable-dev-shm-usage')"
   ]
  },
  {
   "cell_type": "code",
   "execution_count": 3,
   "id": "3768da6f-c84f-4fe4-82f3-d3e0a1bdf363",
   "metadata": {},
   "outputs": [],
   "source": [
    "def get_city_codes():\n",
    "    print(f\"Getting city codes...\", end = ' ')\n",
    "  \n",
    "    browser = webdriver.Chrome(options = chrome_options)\n",
    "    browser.get('http://tabnet.datasus.gov.br/cgi/deftohtm.exe?popsvs/cnv/popbr.def')\n",
    "    browser.find_element(By.ID, 'fig3').click()\n",
    "    options = browser.find_element(By.ID, 'S3').find_elements(By.TAG_NAME, 'option')\n",
    "    city_codes = []\n",
    "\n",
    "    for option in options:\n",
    "        city_code = option.text.split(' ')[0]\n",
    "\n",
    "        if city_code != 'Todas' and city_code[:2] != '00' and city_code[2:] != '0000':\n",
    "            city_codes.append(city_code)\n",
    "            \n",
    "    browser.close()\n",
    "    print('Done.')\n",
    "    \n",
    "    return city_codes"
   ]
  },
  {
   "cell_type": "code",
   "execution_count": 4,
   "id": "8dbcd230-7957-4559-b432-eec89d79305f",
   "metadata": {},
   "outputs": [
    {
     "name": "stdout",
     "output_type": "stream",
     "text": [
      "Getting city codes... Done.\n"
     ]
    }
   ],
   "source": [
    "city_codes = get_city_codes()"
   ]
  },
  {
   "cell_type": "code",
   "execution_count": 5,
   "id": "124d933f-99ab-4801-956d-063ec367d14b",
   "metadata": {},
   "outputs": [
    {
     "name": "stdout",
     "output_type": "stream",
     "text": [
      "5570 cities collected.\n"
     ]
    }
   ],
   "source": [
    "print(f\"{len(city_codes)} cities collected.\")"
   ]
  },
  {
   "cell_type": "code",
   "execution_count": 6,
   "id": "19f93f4f-35d6-48b6-ada8-a1bca47904a0",
   "metadata": {},
   "outputs": [
    {
     "name": "stdout",
     "output_type": "stream",
     "text": [
      "Created file for state 11 with 52 cities.\n",
      "Created file for state 12 with 22 cities.\n",
      "Created file for state 13 with 62 cities.\n",
      "Created file for state 14 with 15 cities.\n",
      "Created file for state 15 with 144 cities.\n",
      "Created file for state 16 with 16 cities.\n",
      "Created file for state 17 with 139 cities.\n",
      "Created file for state 21 with 217 cities.\n",
      "Created file for state 22 with 224 cities.\n",
      "Created file for state 23 with 184 cities.\n",
      "Created file for state 24 with 167 cities.\n",
      "Created file for state 25 with 223 cities.\n",
      "Created file for state 26 with 185 cities.\n",
      "Created file for state 27 with 102 cities.\n",
      "Created file for state 28 with 75 cities.\n",
      "Created file for state 29 with 417 cities.\n",
      "Created file for state 31 with 853 cities.\n",
      "Created file for state 32 with 78 cities.\n",
      "Created file for state 33 with 92 cities.\n",
      "Created file for state 35 with 645 cities.\n",
      "Created file for state 41 with 399 cities.\n",
      "Created file for state 42 with 295 cities.\n",
      "Created file for state 43 with 497 cities.\n",
      "Created file for state 50 with 79 cities.\n",
      "Created file for state 51 with 141 cities.\n",
      "Created file for state 52 with 246 cities.\n",
      "Created file for state 53 with 1 cities.\n"
     ]
    }
   ],
   "source": [
    "for state, cities in groupby(sorted(city_codes), key = lambda x: x[:2]):\n",
    "    state_cities = []\n",
    "    \n",
    "    for city in cities:\n",
    "        state_cities.append(city)\n",
    "    \n",
    "    with open(f\"codes/{state}.txt\", \"w\") as f:\n",
    "        f.write('\\n'.join(state_cities))\n",
    "    \n",
    "    print(f\"Created file for state {state} with {len(state_cities)} cities.\")"
   ]
  }
 ],
 "metadata": {
  "kernelspec": {
   "display_name": "Python 3",
   "language": "python",
   "name": "python3"
  },
  "language_info": {
   "codemirror_mode": {
    "name": "ipython",
    "version": 3
   },
   "file_extension": ".py",
   "mimetype": "text/x-python",
   "name": "python",
   "nbconvert_exporter": "python",
   "pygments_lexer": "ipython3",
   "version": "3.8.8"
  }
 },
 "nbformat": 4,
 "nbformat_minor": 5
}
